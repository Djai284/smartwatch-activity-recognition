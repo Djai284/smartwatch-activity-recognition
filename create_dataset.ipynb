{
 "cells": [
  {
   "cell_type": "code",
   "execution_count": 1,
   "metadata": {},
   "outputs": [],
   "source": [
    "import numpy as np \n",
    "import pandas as pd\n",
    "from utils.utils import *\n",
    "from utils import plotting as plotting"
   ]
  },
  {
   "cell_type": "code",
   "execution_count": 5,
   "metadata": {},
   "outputs": [
    {
     "name": "stderr",
     "output_type": "stream",
     "text": [
      "  0%|          | 0/21 [00:00<?, ?it/s]/var/folders/d4/c154mt9s11x5q965j91l06qw0000gn/T/ipykernel_72501/1119666836.py:14: FutureWarning: The behavior of DataFrame concatenation with empty or all-NA entries is deprecated. In a future version, this will no longer exclude empty or all-NA columns when determining the result dtypes. To retain the old behavior, exclude the relevant entries before the concat operation.\n",
      "  raw_data = pd.concat([raw_data, df], axis =0)\n",
      " 67%|██████▋   | 14/21 [04:12<02:16, 19.46s/it]"
     ]
    }
   ],
   "source": [
    "seconds = 5\n",
    "\n",
    "raw_data = pd.DataFrame(columns = ['index', 'frame', 'timestamp', 'acc_X', 'acc_Y', 'acc_Z', 'gyr_X',\n",
    "       'gyr_Y', 'gyr_Z', 'label', 'user_id'])\n",
    "model_data = pd.DataFrame(columns = ['id', 'sig_array', 'label'])\n",
    "\n",
    "for i in tqdm(range(21)):\n",
    "\n",
    "    acc_data = load_modality(f'mm-fit/w{i:02}/w{i:02}_eb_l_acc.npy')\n",
    "    gyr_data = load_modality(f'mm-fit/w{i:02}/w{i:02}_eb_l_gyr.npy')\n",
    "    label_data = pd.read_csv(f'mm-fit/w{i:02}/w{i:02}_labels.csv', names = ['start_frame', 'end_frame', 'repititions', 'label'])\n",
    "\n",
    "    df = create_df(acc_data, gyr_data, label_data, i)\n",
    "    raw_data = pd.concat([raw_data, df], axis =0)\n",
    "\n",
    "    ex_df = create_examples(df, seconds=seconds)\n",
    "    model_data = pd.concat([model_data, ex_df], axis =0)\n"
   ]
  },
  {
   "cell_type": "code",
   "execution_count": null,
   "metadata": {},
   "outputs": [],
   "source": []
  }
 ],
 "metadata": {
  "kernelspec": {
   "display_name": "base",
   "language": "python",
   "name": "python3"
  },
  "language_info": {
   "codemirror_mode": {
    "name": "ipython",
    "version": 3
   },
   "file_extension": ".py",
   "mimetype": "text/x-python",
   "name": "python",
   "nbconvert_exporter": "python",
   "pygments_lexer": "ipython3",
   "version": "3.12.7"
  }
 },
 "nbformat": 4,
 "nbformat_minor": 2
}
