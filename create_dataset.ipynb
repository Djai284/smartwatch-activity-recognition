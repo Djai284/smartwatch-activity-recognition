{
 "cells": [
  {
   "cell_type": "code",
   "execution_count": 1,
   "metadata": {},
   "outputs": [],
   "source": [
    "import numpy as np \n",
    "import pandas as pd\n",
    "from utils.utils import *\n",
    "from utils import plotting as plotting"
   ]
  },
  {
   "cell_type": "code",
   "execution_count": 2,
   "metadata": {},
   "outputs": [
    {
     "name": "stderr",
     "output_type": "stream",
     "text": [
      "  0%|          | 0/21 [00:00<?, ?it/s]/Users/jacobgottesman/Public/DS 4440/smartwatch-activity-recognition/utils/utils.py:23: FutureWarning: The behavior of DataFrame concatenation with empty or all-NA entries is deprecated. In a future version, this will no longer exclude empty or all-NA columns when determining the result dtypes. To retain the old behavior, exclude the relevant entries before the concat operation.\n",
      "  raw_data = pd.concat([raw_data, df], axis =0)\n",
      "100%|██████████| 21/21 [00:33<00:00,  1.62s/it]\n",
      "  0%|          | 0/11 [00:00<?, ?it/s]/Users/jacobgottesman/Public/DS 4440/smartwatch-activity-recognition/utils/utils.py:72: FutureWarning: The behavior of DataFrame concatenation with empty or all-NA entries is deprecated. In a future version, this will no longer exclude empty or all-NA columns when determining the result dtypes. To retain the old behavior, exclude the relevant entries before the concat operation.\n",
      "  df = pd.concat([df, temp_df], axis = 0)\n",
      "100%|██████████| 11/11 [00:04<00:00,  2.41it/s]\n",
      "0it [00:00, ?it/s]\n",
      "0it [00:00, ?it/s]\n",
      "0it [00:00, ?it/s]\n",
      "0it [00:00, ?it/s]\n",
      "0it [00:00, ?it/s]\n",
      "0it [00:00, ?it/s]\n",
      "0it [00:00, ?it/s]\n",
      "0it [00:00, ?it/s]\n",
      "0it [00:00, ?it/s]\n",
      "0it [00:00, ?it/s]\n",
      "0it [00:00, ?it/s]\n"
     ]
    }
   ],
   "source": [
    "mmfit = load_mmfit()\n",
    "har_data = load_crossfit()\n",
    "mmfit['dataset'] = 'mmfit'\n",
    "har_data['dataset'] = 'har_data'"
   ]
  },
  {
   "cell_type": "code",
   "execution_count": 4,
   "metadata": {},
   "outputs": [
    {
     "data": {
      "text/html": [
       "<div>\n",
       "<style scoped>\n",
       "    .dataframe tbody tr th:only-of-type {\n",
       "        vertical-align: middle;\n",
       "    }\n",
       "\n",
       "    .dataframe tbody tr th {\n",
       "        vertical-align: top;\n",
       "    }\n",
       "\n",
       "    .dataframe thead th {\n",
       "        text-align: right;\n",
       "    }\n",
       "</style>\n",
       "<table border=\"1\" class=\"dataframe\">\n",
       "  <thead>\n",
       "    <tr style=\"text-align: right;\">\n",
       "      <th></th>\n",
       "      <th>index</th>\n",
       "      <th>frame</th>\n",
       "      <th>timestamp</th>\n",
       "      <th>acc_X</th>\n",
       "      <th>acc_Y</th>\n",
       "      <th>acc_Z</th>\n",
       "      <th>gyr_X</th>\n",
       "      <th>gyr_Y</th>\n",
       "      <th>gyr_Z</th>\n",
       "      <th>label</th>\n",
       "      <th>user_id</th>\n",
       "      <th>dataset</th>\n",
       "    </tr>\n",
       "  </thead>\n",
       "  <tbody>\n",
       "    <tr>\n",
       "      <th>0</th>\n",
       "      <td>0</td>\n",
       "      <td>4050.0</td>\n",
       "      <td>1.562791e+12</td>\n",
       "      <td>9.771680</td>\n",
       "      <td>-0.507744</td>\n",
       "      <td>7.666458</td>\n",
       "      <td>-0.183259</td>\n",
       "      <td>-0.207694</td>\n",
       "      <td>-0.531453</td>\n",
       "      <td>squats</td>\n",
       "      <td>0</td>\n",
       "      <td>mmfit</td>\n",
       "    </tr>\n",
       "    <tr>\n",
       "      <th>1</th>\n",
       "      <td>1</td>\n",
       "      <td>4050.0</td>\n",
       "      <td>1.562791e+12</td>\n",
       "      <td>10.008787</td>\n",
       "      <td>-0.356858</td>\n",
       "      <td>8.392149</td>\n",
       "      <td>-0.197920</td>\n",
       "      <td>-0.175929</td>\n",
       "      <td>-0.477696</td>\n",
       "      <td>squats</td>\n",
       "      <td>0</td>\n",
       "      <td>mmfit</td>\n",
       "    </tr>\n",
       "    <tr>\n",
       "      <th>2</th>\n",
       "      <td>2</td>\n",
       "      <td>4050.0</td>\n",
       "      <td>1.562791e+12</td>\n",
       "      <td>10.097403</td>\n",
       "      <td>-0.344883</td>\n",
       "      <td>9.022039</td>\n",
       "      <td>-0.111177</td>\n",
       "      <td>-0.146608</td>\n",
       "      <td>-0.422719</td>\n",
       "      <td>squats</td>\n",
       "      <td>0</td>\n",
       "      <td>mmfit</td>\n",
       "    </tr>\n",
       "    <tr>\n",
       "      <th>3</th>\n",
       "      <td>3</td>\n",
       "      <td>4051.0</td>\n",
       "      <td>1.562791e+12</td>\n",
       "      <td>10.229129</td>\n",
       "      <td>-0.011975</td>\n",
       "      <td>9.005274</td>\n",
       "      <td>0.008552</td>\n",
       "      <td>-0.108734</td>\n",
       "      <td>-0.362854</td>\n",
       "      <td>squats</td>\n",
       "      <td>0</td>\n",
       "      <td>mmfit</td>\n",
       "    </tr>\n",
       "    <tr>\n",
       "      <th>4</th>\n",
       "      <td>5</td>\n",
       "      <td>4051.0</td>\n",
       "      <td>1.562791e+12</td>\n",
       "      <td>11.127261</td>\n",
       "      <td>0.560435</td>\n",
       "      <td>8.715476</td>\n",
       "      <td>0.162490</td>\n",
       "      <td>-0.051313</td>\n",
       "      <td>-0.155160</td>\n",
       "      <td>squats</td>\n",
       "      <td>0</td>\n",
       "      <td>mmfit</td>\n",
       "    </tr>\n",
       "  </tbody>\n",
       "</table>\n",
       "</div>"
      ],
      "text/plain": [
       "  index   frame     timestamp      acc_X     acc_Y     acc_Z     gyr_X  \\\n",
       "0     0  4050.0  1.562791e+12   9.771680 -0.507744  7.666458 -0.183259   \n",
       "1     1  4050.0  1.562791e+12  10.008787 -0.356858  8.392149 -0.197920   \n",
       "2     2  4050.0  1.562791e+12  10.097403 -0.344883  9.022039 -0.111177   \n",
       "3     3  4051.0  1.562791e+12  10.229129 -0.011975  9.005274  0.008552   \n",
       "4     5  4051.0  1.562791e+12  11.127261  0.560435  8.715476  0.162490   \n",
       "\n",
       "      gyr_Y     gyr_Z   label user_id dataset  \n",
       "0 -0.207694 -0.531453  squats       0   mmfit  \n",
       "1 -0.175929 -0.477696  squats       0   mmfit  \n",
       "2 -0.146608 -0.422719  squats       0   mmfit  \n",
       "3 -0.108734 -0.362854  squats       0   mmfit  \n",
       "4 -0.051313 -0.155160  squats       0   mmfit  "
      ]
     },
     "execution_count": 4,
     "metadata": {},
     "output_type": "execute_result"
    }
   ],
   "source": [
    "both_df = pd.concat([mmfit, har_data], axis=0)\n",
    "both_df = both_df.reset_index(drop=True)\n",
    "both_df.head()"
   ]
  },
  {
   "cell_type": "code",
   "execution_count": 6,
   "metadata": {},
   "outputs": [
    {
     "name": "stdout",
     "output_type": "stream",
     "text": [
      "There are 78 unique user.\n",
      "There are 20 unique labels.\n"
     ]
    }
   ],
   "source": [
    "print(f'There are {len(both_df['user_id'].unique())} unique users.')\n",
    "print(f'There are {len(both_df['label'].unique())} unique labels.')"
   ]
  },
  {
   "cell_type": "code",
   "execution_count": 7,
   "metadata": {},
   "outputs": [
    {
     "data": {
      "text/plain": [
       "index        1538606\n",
       "frame        1538606\n",
       "timestamp    1538606\n",
       "acc_X              0\n",
       "acc_Y              0\n",
       "acc_Z              0\n",
       "gyr_X              0\n",
       "gyr_Y              0\n",
       "gyr_Z              0\n",
       "label              0\n",
       "user_id            0\n",
       "dataset            0\n",
       "dtype: int64"
      ]
     },
     "execution_count": 7,
     "metadata": {},
     "output_type": "execute_result"
    }
   ],
   "source": [
    "both_df.isna().sum()"
   ]
  },
  {
   "cell_type": "code",
   "execution_count": 11,
   "metadata": {},
   "outputs": [
    {
     "data": {
      "text/plain": [
       "label\n",
       "non-e                      1149916\n",
       "burpees                     189031\n",
       "pushups                     188069\n",
       "squats                      180007\n",
       "boxjumps                    178455\n",
       "deadlifts                   173752\n",
       "crunches                    161433\n",
       "wallballs                   143426\n",
       "kbsquatpress                127833\n",
       "kbpress                     121313\n",
       "pullups                      84666\n",
       "null                         67936\n",
       "situps                       58318\n",
       "lunges                       57296\n",
       "dumbbell_shoulder_press      48316\n",
       "tricep_extensions            41331\n",
       "lateral_shoulder_raises      39737\n",
       "dumbbell_rows                36487\n",
       "bicep_curls                  35654\n",
       "jumping_jacks                19411\n",
       "Name: count, dtype: int64"
      ]
     },
     "execution_count": 11,
     "metadata": {},
     "output_type": "execute_result"
    }
   ],
   "source": [
    "both_df['label'].value_counts()"
   ]
  },
  {
   "cell_type": "code",
   "execution_count": 10,
   "metadata": {},
   "outputs": [
    {
     "name": "stderr",
     "output_type": "stream",
     "text": [
      "100%|██████████| 3102387/3102387 [03:48<00:00, 13576.09it/s]\n"
     ]
    }
   ],
   "source": [
    "# create completely seperate 2 second pieces of data for testing/training\n",
    "model_data = create_examples(both_df, seconds=2)"
   ]
  },
  {
   "cell_type": "code",
   "execution_count": 12,
   "metadata": {},
   "outputs": [
    {
     "name": "stdout",
     "output_type": "stream",
     "text": [
      "There are 14667 rows of data for training/testing\n",
      "Distribution of classes within data for model\n"
     ]
    },
    {
     "data": {
      "text/plain": [
       "label\n",
       "non-e                      5456\n",
       "burpees                     919\n",
       "pushups                     874\n",
       "boxjumps                    864\n",
       "squats                      846\n",
       "deadlifts                   836\n",
       "crunches                    783\n",
       "wallballs                   693\n",
       "kbsquatpress                615\n",
       "kbpress                     581\n",
       "pullups                     400\n",
       "null                        335\n",
       "situps                      259\n",
       "lunges                      257\n",
       "dumbbell_shoulder_press     211\n",
       "tricep_extensions           179\n",
       "lateral_shoulder_raises     172\n",
       "dumbbell_rows               156\n",
       "bicep_curls                 154\n",
       "jumping_jacks                77\n",
       "Name: count, dtype: int64"
      ]
     },
     "execution_count": 12,
     "metadata": {},
     "output_type": "execute_result"
    }
   ],
   "source": [
    "print(f'There are {len(model_data)} rows of data for training/testing')\n",
    "print('Distribution of classes within data for model')\n",
    "model_data['label'].value_counts()"
   ]
  },
  {
   "cell_type": "code",
   "execution_count": null,
   "metadata": {},
   "outputs": [],
   "source": []
  },
  {
   "cell_type": "code",
   "execution_count": 13,
   "metadata": {},
   "outputs": [],
   "source": [
    "model_data.to_csv('data/2_sec_model_data.csv')\n",
    "both_df.to_csv('data/mmfit_crossfit_data.csv')"
   ]
  },
  {
   "cell_type": "code",
   "execution_count": 14,
   "metadata": {},
   "outputs": [
    {
     "data": {
      "text/plain": [
       "(3102387, 12)"
      ]
     },
     "execution_count": 14,
     "metadata": {},
     "output_type": "execute_result"
    }
   ],
   "source": [
    "both_df.shape"
   ]
  }
 ],
 "metadata": {
  "kernelspec": {
   "display_name": "base",
   "language": "python",
   "name": "python3"
  },
  "language_info": {
   "codemirror_mode": {
    "name": "ipython",
    "version": 3
   },
   "file_extension": ".py",
   "mimetype": "text/x-python",
   "name": "python",
   "nbconvert_exporter": "python",
   "pygments_lexer": "ipython3",
   "version": "3.12.7"
  }
 },
 "nbformat": 4,
 "nbformat_minor": 2
}
