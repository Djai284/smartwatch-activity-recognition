{
 "cells": [
  {
   "cell_type": "code",
   "execution_count": 1,
   "metadata": {},
   "outputs": [],
   "source": [
    "import pandas as pd\n",
    "import numpy as np\n",
    "import ast\n",
    "import re\n",
    "from sklearn.model_selection import train_test_split\n",
    "import torch\n",
    "from torch.utils.data import Dataset, DataLoader\n",
    "from sklearn.preprocessing import LabelEncoder"
   ]
  },
  {
   "cell_type": "code",
   "execution_count": 2,
   "metadata": {},
   "outputs": [
    {
     "data": {
      "text/html": [
       "<div>\n",
       "<style scoped>\n",
       "    .dataframe tbody tr th:only-of-type {\n",
       "        vertical-align: middle;\n",
       "    }\n",
       "\n",
       "    .dataframe tbody tr th {\n",
       "        vertical-align: top;\n",
       "    }\n",
       "\n",
       "    .dataframe thead th {\n",
       "        text-align: right;\n",
       "    }\n",
       "</style>\n",
       "<table border=\"1\" class=\"dataframe\">\n",
       "  <thead>\n",
       "    <tr style=\"text-align: right;\">\n",
       "      <th></th>\n",
       "      <th>id</th>\n",
       "      <th>sig_array</th>\n",
       "      <th>activity_name</th>\n",
       "      <th>subject_id</th>\n",
       "      <th>dataset</th>\n",
       "    </tr>\n",
       "  </thead>\n",
       "  <tbody>\n",
       "    <tr>\n",
       "      <th>0</th>\n",
       "      <td>0</td>\n",
       "      <td>[[-0.1832595, -0.2076941, -0.53145254, 9.77168...</td>\n",
       "      <td>squats</td>\n",
       "      <td>0</td>\n",
       "      <td>mmfit</td>\n",
       "    </tr>\n",
       "    <tr>\n",
       "      <th>1</th>\n",
       "      <td>1</td>\n",
       "      <td>[[1.4453067, -1.6517789, -1.4514153, 1.4441968...</td>\n",
       "      <td>squats</td>\n",
       "      <td>0</td>\n",
       "      <td>mmfit</td>\n",
       "    </tr>\n",
       "    <tr>\n",
       "      <th>2</th>\n",
       "      <td>2</td>\n",
       "      <td>[[1.3023642, -0.0488692, -0.82344604, 8.140672...</td>\n",
       "      <td>squats</td>\n",
       "      <td>0</td>\n",
       "      <td>mmfit</td>\n",
       "    </tr>\n",
       "    <tr>\n",
       "      <th>3</th>\n",
       "      <td>3</td>\n",
       "      <td>[[-0.67683846, 1.067792, 0.6450735, 3.2380664,...</td>\n",
       "      <td>squats</td>\n",
       "      <td>0</td>\n",
       "      <td>mmfit</td>\n",
       "    </tr>\n",
       "    <tr>\n",
       "      <th>4</th>\n",
       "      <td>4</td>\n",
       "      <td>[[0.123394735, 0.28588483, 0.11362089, 12.6337...</td>\n",
       "      <td>squats</td>\n",
       "      <td>0</td>\n",
       "      <td>mmfit</td>\n",
       "    </tr>\n",
       "  </tbody>\n",
       "</table>\n",
       "</div>"
      ],
      "text/plain": [
       "   id                                          sig_array activity_name  \\\n",
       "0   0  [[-0.1832595, -0.2076941, -0.53145254, 9.77168...        squats   \n",
       "1   1  [[1.4453067, -1.6517789, -1.4514153, 1.4441968...        squats   \n",
       "2   2  [[1.3023642, -0.0488692, -0.82344604, 8.140672...        squats   \n",
       "3   3  [[-0.67683846, 1.067792, 0.6450735, 3.2380664,...        squats   \n",
       "4   4  [[0.123394735, 0.28588483, 0.11362089, 12.6337...        squats   \n",
       "\n",
       "  subject_id dataset  \n",
       "0          0   mmfit  \n",
       "1          0   mmfit  \n",
       "2          0   mmfit  \n",
       "3          0   mmfit  \n",
       "4          0   mmfit  "
      ]
     },
     "execution_count": 2,
     "metadata": {},
     "output_type": "execute_result"
    }
   ],
   "source": [
    "df = pd.read_pickle('data/model_data_window_300_space_50.pkl')\n",
    "df.head()"
   ]
  },
  {
   "cell_type": "code",
   "execution_count": 3,
   "metadata": {},
   "outputs": [
    {
     "data": {
      "text/plain": [
       "(300, 6)"
      ]
     },
     "execution_count": 3,
     "metadata": {},
     "output_type": "execute_result"
    }
   ],
   "source": [
    "df.loc[0, 'sig_array'].shape"
   ]
  },
  {
   "cell_type": "code",
   "execution_count": 4,
   "metadata": {},
   "outputs": [
    {
     "name": "stdout",
     "output_type": "stream",
     "text": [
      "There are 51 unique activities in the dataset\n"
     ]
    }
   ],
   "source": [
    "# limit to labels with enough examples\n",
    "\n",
    "counts = df['activity_name'].value_counts()\n",
    "valid_activities = [activity for activity in counts.index.tolist() if counts[activity] >=500]\n",
    "df = df[df['activity_name'].isin(valid_activities)]\n",
    "\n",
    "print(f\"There are {len(df['activity_name'].unique())} unique activities in the dataset\")"
   ]
  },
  {
   "cell_type": "code",
   "execution_count": 5,
   "metadata": {},
   "outputs": [
    {
     "name": "stdout",
     "output_type": "stream",
     "text": [
      "The Sizes of the Train, Test, and Val Sets are:\n",
      "Train Size: 116440\n",
      "Test Size: 32224\n",
      "Val Size: 10787\n"
     ]
    }
   ],
   "source": [
    "# Create test train val split on the user level\n",
    "\n",
    "# split test/train\n",
    "train_users, test_users = train_test_split(df['subject_id'].unique(), train_size=.8, random_state=42)\n",
    "\n",
    "train_data = df[df['subject_id'].isin(train_users)]\n",
    "test_data = df[df['subject_id'].isin(test_users)]\n",
    "\n",
    "# split train/val\n",
    "train_users, val_users = train_test_split(train_data['subject_id'].unique(), train_size=.9, random_state=42)\n",
    "\n",
    "val_data = train_data[train_data['subject_id'].isin(val_users)]\n",
    "train_data = train_data[train_data['subject_id'].isin(train_users)]\n",
    "\n",
    "print(\"The Sizes of the Train, Test, and Val Sets are:\")\n",
    "print(f\"Train Size: {len(train_data)}\")\n",
    "print(f\"Test Size: {len(test_data)}\")\n",
    "print(f\"Val Size: {len(val_data)}\")"
   ]
  },
  {
   "cell_type": "code",
   "execution_count": 6,
   "metadata": {},
   "outputs": [],
   "source": [
    "# Seperate X and Y components of data\n",
    "\n",
    "X_train = np.array(train_data['sig_array'])\n",
    "X_test = np.array(test_data['sig_array'])\n",
    "X_Val = np.array(val_data['sig_array'])\n",
    "\n",
    "y_train = np.array(train_data['activity_name'])\n",
    "y_test = np.array(test_data['activity_name'])\n",
    "y_val = np.array(val_data['activity_name'])"
   ]
  },
  {
   "cell_type": "code",
   "execution_count": 7,
   "metadata": {},
   "outputs": [],
   "source": [
    "# Get Data in right format\n",
    "\n",
    "# Encode labels\n",
    "label_encoder = LabelEncoder()\n",
    "y_train_encoded = label_encoder.fit_transform(y_train)\n",
    "y_test_encoded = label_encoder.transform(y_test)\n",
    "y_val_encoded = label_encoder.transform(y_val)\n",
    "\n",
    "\n",
    "X_train = np.stack(X_train).astype(np.float32)\n",
    "X_test = np.stack(X_test).astype(np.float32)\n",
    "X_Val = np.stack(X_Val).astype(np.float32)\n",
    "\n",
    "X_train_tensor = torch.tensor(X_train, dtype=torch.float32)\n",
    "X_test_tensor = torch.tensor(X_test, dtype=torch.float32)\n",
    "X_Val_tensor = torch.tensor(X_Val, dtype=torch.float32)\n",
    "\n",
    "# Convert y arrays to tensors\n",
    "y_train_tensor = torch.tensor(y_train_encoded, dtype=torch.long)\n",
    "y_test_tensor = torch.tensor(y_test_encoded, dtype=torch.long)\n",
    "y_val_tensor = torch.tensor(y_val_encoded, dtype=torch.long)"
   ]
  },
  {
   "cell_type": "code",
   "execution_count": 8,
   "metadata": {},
   "outputs": [],
   "source": [
    "# Define custom Dataset class\n",
    "class SensorDataset(Dataset):\n",
    "    def __init__(self, X, y):\n",
    "        self.X = X\n",
    "        self.y = y\n",
    "\n",
    "    def __len__(self):\n",
    "        return len(self.X)\n",
    "\n",
    "    def __getitem__(self, idx):\n",
    "        return self.X[idx], self.y[idx]"
   ]
  },
  {
   "cell_type": "code",
   "execution_count": 9,
   "metadata": {},
   "outputs": [
    {
     "name": "stdout",
     "output_type": "stream",
     "text": [
      "Train dataset size: 116440\n",
      "Test dataset size: 32224\n",
      "Val dataset size: 10787\n"
     ]
    }
   ],
   "source": [
    "# Final prep for model\n",
    "\n",
    "# Create Dataset objects\n",
    "train_dataset = SensorDataset(X_train_tensor, y_train_tensor)\n",
    "test_dataset = SensorDataset(X_test_tensor, y_test_tensor)\n",
    "val_dataset = SensorDataset(X_Val_tensor, y_val_tensor)\n",
    "\n",
    "# Create DataLoaders\n",
    "batch_size = 64  # Adjust batch size as needed\n",
    "train_loader = DataLoader(train_dataset, batch_size=batch_size, shuffle=True)\n",
    "test_loader = DataLoader(test_dataset, batch_size=batch_size, shuffle=False)\n",
    "val_loader = DataLoader(val_dataset, batch_size=batch_size, shuffle=False)\n",
    "\n",
    "# Print dataset sizes\n",
    "print(f\"Train dataset size: {len(train_dataset)}\")\n",
    "print(f\"Test dataset size: {len(test_dataset)}\")\n",
    "print(f\"Val dataset size: {len(val_dataset)}\")"
   ]
  }
 ],
 "metadata": {
  "kernelspec": {
   "display_name": "base",
   "language": "python",
   "name": "python3"
  },
  "language_info": {
   "codemirror_mode": {
    "name": "ipython",
    "version": 3
   },
   "file_extension": ".py",
   "mimetype": "text/x-python",
   "name": "python",
   "nbconvert_exporter": "python",
   "pygments_lexer": "ipython3",
   "version": "3.12.7"
  }
 },
 "nbformat": 4,
 "nbformat_minor": 2
}
