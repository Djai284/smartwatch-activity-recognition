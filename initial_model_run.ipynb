{
 "cells": [
  {
   "cell_type": "code",
   "execution_count": 2,
   "metadata": {},
   "outputs": [],
   "source": [
    "import pandas as pd\n",
    "import numpy as np\n",
    "import ast\n",
    "import re\n",
    "from sklearn.model_selection import train_test_split\n",
    "import torch\n",
    "from torch.utils.data import Dataset, DataLoader\n",
    "from sklearn.preprocessing import LabelEncoder"
   ]
  },
  {
   "cell_type": "code",
   "execution_count": 3,
   "metadata": {},
   "outputs": [
    {
     "data": {
      "text/html": [
       "<div>\n",
       "<style scoped>\n",
       "    .dataframe tbody tr th:only-of-type {\n",
       "        vertical-align: middle;\n",
       "    }\n",
       "\n",
       "    .dataframe tbody tr th {\n",
       "        vertical-align: top;\n",
       "    }\n",
       "\n",
       "    .dataframe thead th {\n",
       "        text-align: right;\n",
       "    }\n",
       "</style>\n",
       "<table border=\"1\" class=\"dataframe\">\n",
       "  <thead>\n",
       "    <tr style=\"text-align: right;\">\n",
       "      <th></th>\n",
       "      <th>id</th>\n",
       "      <th>sig_array</th>\n",
       "      <th>activity_name</th>\n",
       "      <th>subject_id</th>\n",
       "      <th>dataset</th>\n",
       "    </tr>\n",
       "  </thead>\n",
       "  <tbody>\n",
       "    <tr>\n",
       "      <th>0</th>\n",
       "      <td>0</td>\n",
       "      <td>[[-0.1832595, -0.2076941, -0.53145254, 9.77168...</td>\n",
       "      <td>squats</td>\n",
       "      <td>0</td>\n",
       "      <td>mmfit</td>\n",
       "    </tr>\n",
       "    <tr>\n",
       "      <th>1</th>\n",
       "      <td>1</td>\n",
       "      <td>[[1.502728, -1.7263045, -1.4062113, 0.86939216...</td>\n",
       "      <td>squats</td>\n",
       "      <td>0</td>\n",
       "      <td>mmfit</td>\n",
       "    </tr>\n",
       "    <tr>\n",
       "      <th>2</th>\n",
       "      <td>2</td>\n",
       "      <td>[[-0.21502449, -1.5980228, -1.4941758, 6.47373...</td>\n",
       "      <td>non-e</td>\n",
       "      <td>0</td>\n",
       "      <td>mmfit</td>\n",
       "    </tr>\n",
       "    <tr>\n",
       "      <th>3</th>\n",
       "      <td>3</td>\n",
       "      <td>[[0.6059781, 0.07819072, -0.53633946, 7.046148...</td>\n",
       "      <td>non-e</td>\n",
       "      <td>0</td>\n",
       "      <td>mmfit</td>\n",
       "    </tr>\n",
       "    <tr>\n",
       "      <th>4</th>\n",
       "      <td>4</td>\n",
       "      <td>[[0.09896013, -0.2724458, 0.53145254, 1.087338...</td>\n",
       "      <td>non-e</td>\n",
       "      <td>0</td>\n",
       "      <td>mmfit</td>\n",
       "    </tr>\n",
       "  </tbody>\n",
       "</table>\n",
       "</div>"
      ],
      "text/plain": [
       "   id                                          sig_array activity_name  \\\n",
       "0   0  [[-0.1832595, -0.2076941, -0.53145254, 9.77168...        squats   \n",
       "1   1  [[1.502728, -1.7263045, -1.4062113, 0.86939216...        squats   \n",
       "2   2  [[-0.21502449, -1.5980228, -1.4941758, 6.47373...         non-e   \n",
       "3   3  [[0.6059781, 0.07819072, -0.53633946, 7.046148...         non-e   \n",
       "4   4  [[0.09896013, -0.2724458, 0.53145254, 1.087338...         non-e   \n",
       "\n",
       "  subject_id dataset  \n",
       "0          0   mmfit  \n",
       "1          0   mmfit  \n",
       "2          0   mmfit  \n",
       "3          0   mmfit  \n",
       "4          0   mmfit  "
      ]
     },
     "execution_count": 3,
     "metadata": {},
     "output_type": "execute_result"
    }
   ],
   "source": [
    "df = pd.read_pickle('data/model_data_window_500_space_50.pkl')\n",
    "df.head()"
   ]
  },
  {
   "cell_type": "code",
   "execution_count": 5,
   "metadata": {},
   "outputs": [],
   "source": [
    "name_fix_dict = {'non-e' : 'rest',\n",
    "                 'nonexercise': 'rest',\n",
    "                 'staticstretch(atyourownpace)': 'staticstretch',\n",
    "                 'two-armdumbbellcurl(botharms,notalternating)': 'bicepcurls',\n",
    "                 'wallballs': 'wallball',\n",
    "                 'dumbbell_shoulder_press': 'dumbbellshoulderpress',\n",
    "                 'lateral_shoulder_raises': 'lateralshoulderraises',\n",
    "                 'sit-up(handspositionedbehindhead)': 'situps'}\n",
    "\n",
    "\n",
    "df['activity_name'] = df['activity_name'].apply(lambda x: name_fix_dict[x] if x in name_fix_dict.keys() else x)"
   ]
  },
  {
   "cell_type": "code",
   "execution_count": 6,
   "metadata": {},
   "outputs": [
    {
     "data": {
      "text/plain": [
       "array(['squats', 'rest', 'pushups', 'dumbbellshoulderpress', 'lunges',\n",
       "       'dumbbell_rows', 'situps', 'bicep_curls', 'lateralshoulderraises',\n",
       "       'tricep_extensions', 'jumping_jacks', 'kbpress', 'boxjumps',\n",
       "       'deadlifts', 'crunches', 'kbsquatpress', 'null', 'wallball',\n",
       "       'burpees', 'pullups', 'bicepscurl(band)', 'ellipticalmachine',\n",
       "       'staticstretch', 'burpee', 'bicepcurls',\n",
       "       'dynamicstretch(atyourownpace)', 'walk', 'tricepextensions', 'dip',\n",
       "       'plank', 'v-up', 'dumbbellrows', 'deviceontable',\n",
       "       'kettlebellswing', 'russiantwist', 'crunch', 'seatedbackfly',\n",
       "       'butterflysit-up', 'jumprope', 'fastalternatingpunches',\n",
       "       'sideplankrightside', 'sideplankleftside', 'note',\n",
       "       'taprightdevice', 'repetitivestretching', 'jumpingjacks',\n",
       "       'powerboatpose', 'tapleftdevice', 'unlistedexercise',\n",
       "       'running(treadmill)', 'armbandadjustment',\n",
       "       'overheadtricepsextension(labelspansbotharms)', 'bandpull-downrow',\n",
       "       'chestpress(rack)', 'rowingmachine', 'medicineballslam',\n",
       "       'lawnmower(rightarm)', 'lawnmower(leftarm)',\n",
       "       'alternatingdumbbellcurl'], dtype=object)"
      ]
     },
     "execution_count": 6,
     "metadata": {},
     "output_type": "execute_result"
    }
   ],
   "source": [
    "df['activity_name'].unique()"
   ]
  },
  {
   "cell_type": "code",
   "execution_count": 7,
   "metadata": {},
   "outputs": [
    {
     "data": {
      "text/plain": [
       "array(['har_data'], dtype=object)"
      ]
     },
     "execution_count": 7,
     "metadata": {},
     "output_type": "execute_result"
    }
   ],
   "source": [
    "df[df['activity_name']=='null']['dataset'].unique()"
   ]
  },
  {
   "cell_type": "code",
   "execution_count": 8,
   "metadata": {},
   "outputs": [
    {
     "name": "stdout",
     "output_type": "stream",
     "text": [
      "There are 33 unique activities in the dataset\n"
     ]
    }
   ],
   "source": [
    "# limit to labels with enough examples\n",
    "\n",
    "counts = df['activity_name'].value_counts()\n",
    "valid_activities = [activity for activity in counts.index.tolist() if counts[activity] >=1000]\n",
    "df = df[df['activity_name'].isin(valid_activities)]\n",
    "\n",
    "print(f\"There are {len(df['activity_name'].unique())} unique activities in the dataset\")"
   ]
  },
  {
   "cell_type": "markdown",
   "metadata": {},
   "source": []
  },
  {
   "cell_type": "code",
   "execution_count": 4,
   "metadata": {},
   "outputs": [],
   "source": []
  },
  {
   "cell_type": "code",
   "execution_count": 9,
   "metadata": {},
   "outputs": [
    {
     "name": "stdout",
     "output_type": "stream",
     "text": [
      "The Sizes of the Train, Test, and Val Sets are:\n",
      "Train Size: 102901\n",
      "Test Size: 28716\n",
      "Val Size: 9575\n"
     ]
    }
   ],
   "source": [
    "# Create test train val split on the user level\n",
    "\n",
    "# split test/train\n",
    "train_users, test_users = train_test_split(df['subject_id'].unique(), train_size=.8, random_state=42)\n",
    "\n",
    "train_data = df[df['subject_id'].isin(train_users)]\n",
    "test_data = df[df['subject_id'].isin(test_users)]\n",
    "\n",
    "# split train/val\n",
    "train_users, val_users = train_test_split(train_data['subject_id'].unique(), train_size=.9, random_state=42)\n",
    "\n",
    "val_data = train_data[train_data['subject_id'].isin(val_users)]\n",
    "train_data = train_data[train_data['subject_id'].isin(train_users)]\n",
    "\n",
    "print(\"The Sizes of the Train, Test, and Val Sets are:\")\n",
    "print(f\"Train Size: {len(train_data)}\")\n",
    "print(f\"Test Size: {len(test_data)}\")\n",
    "print(f\"Val Size: {len(val_data)}\")"
   ]
  },
  {
   "cell_type": "code",
   "execution_count": 10,
   "metadata": {},
   "outputs": [],
   "source": [
    "# Seperate X and Y components of data\n",
    "\n",
    "X_train = np.array(train_data['sig_array'])\n",
    "X_test = np.array(test_data['sig_array'])\n",
    "X_Val = np.array(val_data['sig_array'])\n",
    "\n",
    "y_train = np.array(train_data['activity_name'])\n",
    "y_test = np.array(test_data['activity_name'])\n",
    "y_val = np.array(val_data['activity_name'])"
   ]
  },
  {
   "cell_type": "code",
   "execution_count": 11,
   "metadata": {},
   "outputs": [],
   "source": [
    "# Get Data in right format\n",
    "\n",
    "# Encode labels\n",
    "label_encoder = LabelEncoder()\n",
    "y_train_encoded = label_encoder.fit_transform(y_train)\n",
    "y_test_encoded = label_encoder.transform(y_test)\n",
    "y_val_encoded = label_encoder.transform(y_val)\n",
    "\n",
    "\n",
    "X_train = np.stack(X_train).astype(np.float32)\n",
    "X_test = np.stack(X_test).astype(np.float32)\n",
    "X_Val = np.stack(X_Val).astype(np.float32)\n",
    "\n",
    "X_train_tensor = torch.tensor(X_train, dtype=torch.float32)\n",
    "X_test_tensor = torch.tensor(X_test, dtype=torch.float32)\n",
    "X_Val_tensor = torch.tensor(X_Val, dtype=torch.float32)\n",
    "\n",
    "# Convert y arrays to tensors\n",
    "y_train_tensor = torch.tensor(y_train_encoded, dtype=torch.long)\n",
    "y_test_tensor = torch.tensor(y_test_encoded, dtype=torch.long)\n",
    "y_val_tensor = torch.tensor(y_val_encoded, dtype=torch.long)"
   ]
  },
  {
   "cell_type": "code",
   "execution_count": 12,
   "metadata": {},
   "outputs": [],
   "source": [
    "from torch.utils.data import Dataset, DataLoader\n",
    "\n",
    "class IMUDataset(Dataset):\n",
    "    def __init__(self, X, y):\n",
    "        self.X = torch.tensor(X, dtype=torch.float32).permute(0, 2, 1)  # Convert to tensor and swap axes\n",
    "        self.y = torch.tensor(y, dtype=torch.long)  # Ensure labels are integers for classification\n",
    "\n",
    "    def __len__(self):\n",
    "        return len(self.X)\n",
    "\n",
    "    def __getitem__(self, idx):\n",
    "        return self.X[idx], self.y[idx]\n",
    "\n",
    "# Create Dataset Objects\n",
    "train_dataset = IMUDataset(X_train, y_train_encoded)\n",
    "val_dataset = IMUDataset(X_Val, y_val_encoded)\n",
    "test_dataset = IMUDataset(X_test, y_test_encoded)\n",
    "\n",
    "# DataLoader\n",
    "batch_size = 32\n",
    "train_loader = DataLoader(train_dataset, batch_size=batch_size, shuffle=True)\n",
    "val_loader = DataLoader(val_dataset, batch_size=batch_size, shuffle=False)\n",
    "test_loader = DataLoader(test_dataset, batch_size=batch_size, shuffle=False)\n"
   ]
  },
  {
   "cell_type": "code",
   "execution_count": 13,
   "metadata": {},
   "outputs": [],
   "source": [
    "def compute_accuracy(model, dataloader, device):\n",
    "    model.eval()\n",
    "    correct = 0\n",
    "    total = 0\n",
    "    with torch.no_grad():\n",
    "        for X_batch, y_batch in dataloader:\n",
    "            X_batch, y_batch = X_batch.to(device), y_batch.to(device)\n",
    "            outputs = model(X_batch)\n",
    "            _, predicted = torch.max(outputs, 1)\n",
    "            total += y_batch.size(0)\n",
    "            correct += (predicted == y_batch).sum().item()\n",
    "    return 100 * correct / total"
   ]
  },
  {
   "cell_type": "code",
   "execution_count": 27,
   "metadata": {},
   "outputs": [
    {
     "data": {
      "text/plain": [
       "<module 'model' from '/Users/jacobgottesman/Public/DS 4440/smartwatch-activity-recognition/model.py'>"
      ]
     },
     "execution_count": 27,
     "metadata": {},
     "output_type": "execute_result"
    }
   ],
   "source": []
  },
  {
   "cell_type": "code",
   "execution_count": null,
   "metadata": {},
   "outputs": [
    {
     "name": "stdout",
     "output_type": "stream",
     "text": [
      "Epoch [1/20], Loss: 1.1609, Val Accuracy: 80.63%, Train Accuracy 83.96%\n",
      "Epoch [2/20], Loss: 0.6565, Val Accuracy: 85.59%, Train Accuracy 88.22%\n",
      "Epoch [3/20], Loss: 0.5131, Val Accuracy: 88.28%, Train Accuracy 91.29%\n",
      "Epoch [4/20], Loss: 0.4236, Val Accuracy: 88.67%, Train Accuracy 92.14%\n"
     ]
    }
   ],
   "source": [
    "\n",
    "import torch.optim as optim\n",
    "import torch.nn as nn\n",
    "\n",
    "from model import *\n",
    "\n",
    "\n",
    "# Model setup\n",
    "num_classes = len(np.unique(y_train_encoded))\n",
    "window_length = 500  \n",
    "device = torch.device(\"mps\" if torch.mps.is_available() else \"cpu\")\n",
    "\n",
    "model = IMUCNN(num_classes=num_classes, window_length=window_length).to(device)\n",
    "\n",
    "# Loss and Optimizer\n",
    "criterion = nn.CrossEntropyLoss()\n",
    "optimizer = optim.Adam(model.parameters(), lr=0.001)\n",
    "augmenter = TimeSeriesAugmentation()\n",
    "\n",
    "\n",
    "# Training Loop\n",
    "num_epochs = 20\n",
    "for epoch in range(num_epochs):\n",
    "    model.train()\n",
    "    running_loss = 0.0\n",
    "\n",
    "    for X_batch, y_batch in train_loader:\n",
    "\n",
    "        X_batch = augmenter.apply(X_batch)\n",
    "        X_batch, y_batch = X_batch.to(device), y_batch.to(device)\n",
    "\n",
    "        optimizer.zero_grad()\n",
    "        outputs = model(X_batch)\n",
    "        loss = criterion(outputs, y_batch)\n",
    "        loss.backward()\n",
    "        optimizer.step()\n",
    "\n",
    "        running_loss += loss.item()\n",
    "\n",
    "    avg_loss = running_loss / len(train_loader)\n",
    "    #  Compute validation accuracy\n",
    "    val_accuracy = compute_accuracy(model, val_loader, device)\n",
    "    train_accuracy = compute_accuracy(model, train_loader, device)\n",
    "\n",
    "    print(f\"Epoch [{epoch+1}/{num_epochs}], Loss: {avg_loss:.4f}, Val Accuracy: {val_accuracy:.2f}%, Train Accuracy {train_accuracy:.2f}%\")\n",
    "\n",
    "\n",
    "print(\"Training complete!\")\n"
   ]
  },
  {
   "cell_type": "code",
   "execution_count": 21,
   "metadata": {},
   "outputs": [],
   "source": [
    "import numpy as np\n",
    "import torch\n",
    "import matplotlib.pyplot as plt\n",
    "import seaborn as sns\n",
    "from sklearn.metrics import confusion_matrix, classification_report\n",
    "\n",
    "def predict(model, dataloader, device):\n",
    "    model.eval()  # Set model to evaluation mode\n",
    "    all_preds = []\n",
    "    all_labels = []\n",
    "\n",
    "    with torch.no_grad():\n",
    "        for X_batch, y_batch in dataloader:\n",
    "            X_batch, y_batch = X_batch.to(device), y_batch.to(device)\n",
    "\n",
    "            outputs = model(X_batch)\n",
    "            _, predicted = torch.max(outputs, 1)  # Get class with highest probability\n",
    "\n",
    "            all_preds.extend(predicted.cpu().numpy())\n",
    "            all_labels.extend(y_batch.cpu().numpy())\n",
    "\n",
    "    return np.array(all_preds), np.array(all_labels)\n",
    "\n"
   ]
  },
  {
   "cell_type": "code",
   "execution_count": 33,
   "metadata": {},
   "outputs": [
    {
     "name": "stdout",
     "output_type": "stream",
     "text": [
      "Classification Report:\n",
      "                                precision    recall  f1-score   support\n",
      "\n",
      "                   bicepcurls       0.00      0.00      0.00         0\n",
      "                     boxjumps       0.00      0.00      0.00         0\n",
      "                       burpee       0.00      0.00      0.00         0\n",
      "                      burpees       0.00      0.00      0.00         0\n",
      "              butterflysit-up       0.00      0.00      0.00         0\n",
      "                       crunch       0.00      0.00      0.00         0\n",
      "                     crunches       0.00      0.00      0.00         0\n",
      "                    deadlifts       0.00      0.00      0.00         0\n",
      "                deviceontable       0.00      0.00      0.00         0\n",
      "                 dumbbellrows       0.00      0.00      0.00         0\n",
      "        dumbbellshoulderpress       0.00      0.00      0.00         0\n",
      "dynamicstretch(atyourownpace)       0.00      0.00      0.00         0\n",
      "            ellipticalmachine       0.00      0.00      0.00         0\n",
      "                     jumprope       0.00      0.00      0.00         0\n",
      "                      kbpress       0.00      0.00      0.00         0\n",
      "                 kbsquatpress       0.00      0.00      0.00         0\n",
      "        lateralshoulderraises       0.00      0.00      0.00         0\n",
      "                       lunges       0.00      0.00      0.00         0\n",
      "                         null       0.00      0.00      0.00         0\n",
      "                        plank       0.00      0.00      0.00         0\n",
      "                      pullups       0.00      0.00      0.00         0\n",
      "                      pushups       0.00      0.00      0.00         0\n",
      "                         rest       0.00      0.00      0.00         0\n",
      "                rowingmachine       0.00      0.00      0.00         0\n",
      "           running(treadmill)       0.00      0.00      0.00         0\n",
      "                 russiantwist       0.00      0.00      0.00         0\n",
      "                       situps       0.00      0.00      0.00         0\n",
      "                       squats       0.00      0.00      0.00         0\n",
      "                staticstretch       0.00      0.00      0.00         0\n",
      "             tricepextensions       0.00      0.00      0.00         0\n",
      "                         v-up       0.00      0.00      0.00         0\n",
      "                         walk       0.00      0.00      0.00         0\n",
      "                     wallball       0.00      0.00      0.00         0\n",
      "\n",
      "                    micro avg       0.00      0.00      0.00         0\n",
      "                    macro avg       0.00      0.00      0.00         0\n",
      "                 weighted avg       0.00      0.00      0.00         0\n",
      "\n"
     ]
    },
    {
     "name": "stderr",
     "output_type": "stream",
     "text": [
      "/opt/anaconda3/lib/python3.12/site-packages/sklearn/metrics/_classification.py:1531: UndefinedMetricWarning: Precision is ill-defined and being set to 0.0 in labels with no predicted samples. Use `zero_division` parameter to control this behavior.\n",
      "  _warn_prf(average, modifier, f\"{metric.capitalize()} is\", len(result))\n",
      "/opt/anaconda3/lib/python3.12/site-packages/sklearn/metrics/_classification.py:1531: UndefinedMetricWarning: Recall is ill-defined and being set to 0.0 in labels with no true samples. Use `zero_division` parameter to control this behavior.\n",
      "  _warn_prf(average, modifier, f\"{metric.capitalize()} is\", len(result))\n",
      "/opt/anaconda3/lib/python3.12/site-packages/sklearn/metrics/_classification.py:1531: UndefinedMetricWarning: F-score is ill-defined and being set to 0.0 in labels with no true nor predicted samples. Use `zero_division` parameter to control this behavior.\n",
      "  _warn_prf(average, modifier, f\"{metric.capitalize()} is\", len(result))\n",
      "/opt/anaconda3/lib/python3.12/site-packages/sklearn/metrics/_classification.py:1531: UndefinedMetricWarning: Precision is ill-defined and being set to 0.0 due to no predicted samples. Use `zero_division` parameter to control this behavior.\n",
      "  _warn_prf(average, modifier, f\"{metric.capitalize()} is\", len(result))\n",
      "/opt/anaconda3/lib/python3.12/site-packages/sklearn/metrics/_classification.py:1531: UndefinedMetricWarning: Recall is ill-defined and being set to 0.0 due to no true samples. Use `zero_division` parameter to control this behavior.\n",
      "  _warn_prf(average, modifier, f\"{metric.capitalize()} is\", len(result))\n",
      "/opt/anaconda3/lib/python3.12/site-packages/sklearn/metrics/_classification.py:1531: UndefinedMetricWarning: F-score is ill-defined and being set to 0.0 due to no true nor predicted samples. Use `zero_division` parameter to control this behavior.\n",
      "  _warn_prf(average, modifier, f\"{metric.capitalize()} is\", len(result))\n",
      "/opt/anaconda3/lib/python3.12/site-packages/sklearn/metrics/_classification.py:1531: UndefinedMetricWarning: Precision is ill-defined and being set to 0.0 in labels with no predicted samples. Use `zero_division` parameter to control this behavior.\n",
      "  _warn_prf(average, modifier, f\"{metric.capitalize()} is\", len(result))\n",
      "/opt/anaconda3/lib/python3.12/site-packages/sklearn/metrics/_classification.py:1531: UndefinedMetricWarning: Recall is ill-defined and being set to 0.0 in labels with no true samples. Use `zero_division` parameter to control this behavior.\n",
      "  _warn_prf(average, modifier, f\"{metric.capitalize()} is\", len(result))\n",
      "/opt/anaconda3/lib/python3.12/site-packages/sklearn/metrics/_classification.py:1531: UndefinedMetricWarning: F-score is ill-defined and being set to 0.0 in labels with no true nor predicted samples. Use `zero_division` parameter to control this behavior.\n",
      "  _warn_prf(average, modifier, f\"{metric.capitalize()} is\", len(result))\n",
      "/opt/anaconda3/lib/python3.12/site-packages/sklearn/metrics/_classification.py:1531: UndefinedMetricWarning: Precision is ill-defined and being set to 0.0 in labels with no predicted samples. Use `zero_division` parameter to control this behavior.\n",
      "  _warn_prf(average, modifier, f\"{metric.capitalize()} is\", len(result))\n",
      "/opt/anaconda3/lib/python3.12/site-packages/sklearn/metrics/_classification.py:1531: UndefinedMetricWarning: Recall is ill-defined and being set to 0.0 in labels with no true samples. Use `zero_division` parameter to control this behavior.\n",
      "  _warn_prf(average, modifier, f\"{metric.capitalize()} is\", len(result))\n",
      "/opt/anaconda3/lib/python3.12/site-packages/sklearn/metrics/_classification.py:1531: UndefinedMetricWarning: F-score is ill-defined and being set to 0.0 in labels with no true nor predicted samples. Use `zero_division` parameter to control this behavior.\n",
      "  _warn_prf(average, modifier, f\"{metric.capitalize()} is\", len(result))\n"
     ]
    }
   ],
   "source": [
    "# Get predictions\n",
    "y_pred, y_true = predict(model, test_loader, device)\n",
    "\n",
    "# Compute confusion matrix\n",
    "cm = confusion_matrix(y_true, y_pred)\n",
    "\n",
    "\n",
    "\n",
    "# Print classification report\n",
    "print(\"Classification Report:\\n\", classification_report(y_true, y_pred, labels=list(label_encoder.classes_)))\n"
   ]
  },
  {
   "cell_type": "code",
   "execution_count": 32,
   "metadata": {},
   "outputs": [
    {
     "data": {
      "text/plain": [
       "array(['bicepcurls', 'boxjumps', 'burpee', 'burpees', 'butterflysit-up',\n",
       "       'crunch', 'crunches', 'deadlifts', 'deviceontable', 'dumbbellrows',\n",
       "       'dumbbellshoulderpress', 'dynamicstretch(atyourownpace)',\n",
       "       'ellipticalmachine', 'jumprope', 'kbpress', 'kbsquatpress',\n",
       "       'lateralshoulderraises', 'lunges', 'null', 'plank', 'pullups',\n",
       "       'pushups', 'rest', 'rowingmachine', 'running(treadmill)',\n",
       "       'russiantwist', 'situps', 'squats', 'staticstretch',\n",
       "       'tricepextensions', 'v-up', 'walk', 'wallball'], dtype=object)"
      ]
     },
     "execution_count": 32,
     "metadata": {},
     "output_type": "execute_result"
    }
   ],
   "source": [
    "label_encoder.classes_"
   ]
  }
 ],
 "metadata": {
  "kernelspec": {
   "display_name": "base",
   "language": "python",
   "name": "python3"
  },
  "language_info": {
   "codemirror_mode": {
    "name": "ipython",
    "version": 3
   },
   "file_extension": ".py",
   "mimetype": "text/x-python",
   "name": "python",
   "nbconvert_exporter": "python",
   "pygments_lexer": "ipython3",
   "version": "3.12.7"
  }
 },
 "nbformat": 4,
 "nbformat_minor": 2
}
